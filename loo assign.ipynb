{
 "cells": [
  {
   "cell_type": "markdown",
   "id": "e623cd9c-bea5-4943-8f31-c8dc74d05608",
   "metadata": {},
   "source": [
    "Ans 1."
   ]
  },
  {
   "cell_type": "code",
   "execution_count": 1,
   "id": "1b022720-08e1-48a3-a900-f05d3f61ddf1",
   "metadata": {},
   "outputs": [],
   "source": [
    "l= [1,3,5,6,8,9,0,532]"
   ]
  },
  {
   "cell_type": "code",
   "execution_count": 2,
   "id": "df7246a8-2bea-4765-a887-9b550e132880",
   "metadata": {},
   "outputs": [
    {
     "name": "stdout",
     "output_type": "stream",
     "text": [
      "1\n",
      "4\n",
      "9\n",
      "15\n",
      "23\n",
      "32\n",
      "32\n",
      "564\n"
     ]
    }
   ],
   "source": [
    "result= 0\n",
    "for i in l:\n",
    "    result= result + i\n",
    "    print(result)\n",
    "    \n",
    "    \n",
    "    "
   ]
  },
  {
   "cell_type": "code",
   "execution_count": 3,
   "id": "84358f59-d816-4980-b45f-6dad00156645",
   "metadata": {},
   "outputs": [
    {
     "name": "stdout",
     "output_type": "stream",
     "text": [
      "1\n",
      "2\n",
      "3\n",
      "4\n",
      "5\n",
      "6\n",
      "7\n",
      "8\n",
      "9\n",
      "10\n"
     ]
    }
   ],
   "source": [
    "a=1\n",
    "while a<=10 :\n",
    "    print(a)\n",
    "    a= a+1\n",
    "    "
   ]
  },
  {
   "cell_type": "markdown",
   "id": "95e2b413-80db-4d89-8553-8ddfb6e0f826",
   "metadata": {},
   "source": [
    "Ans 2."
   ]
  },
  {
   "cell_type": "code",
   "execution_count": 4,
   "id": "c3af456d-172f-4d4a-b4f9-6b4ce848ad8a",
   "metadata": {},
   "outputs": [],
   "source": [
    "l1 = [1,2,3,4,5,6,7,8,9,0]"
   ]
  },
  {
   "cell_type": "code",
   "execution_count": 7,
   "id": "0e3002f7-3d2d-4d0e-9d50-5fbb36274f0a",
   "metadata": {},
   "outputs": [
    {
     "data": {
      "text/plain": [
       "45"
      ]
     },
     "execution_count": 7,
     "metadata": {},
     "output_type": "execute_result"
    }
   ],
   "source": [
    "result= 0\n",
    "for i in l1:\n",
    "    result = result+i\n",
    "result"
   ]
  },
  {
   "cell_type": "markdown",
   "id": "07ffbc76-5e77-44bd-ba43-34fd7bce1e22",
   "metadata": {},
   "source": [
    "Ans 3."
   ]
  },
  {
   "cell_type": "code",
   "execution_count": 2,
   "id": "8d37d14e-c5b7-4e3c-ac3a-dbc1613ace18",
   "metadata": {},
   "outputs": [
    {
     "name": "stdin",
     "output_type": "stream",
     "text": [
      "Enter the units of electricity consumed:  310\n"
     ]
    },
    {
     "name": "stdout",
     "output_type": "stream",
     "text": [
      "bill Rs. 2250.0\n"
     ]
    }
   ],
   "source": [
    "units = int(input(\"Enter the units of electricity consumed: \"))\n",
    "if units <= 100:\n",
    "    bill = units * 4.5\n",
    "elif units<= 200:\n",
    "    bill = 100 * 4.5 + (units - 100) * 6\n",
    "elif units <= 300:\n",
    "    bill = 100 * 4.5 + 100 * 6 + (units - 200) * 10\n",
    "else:\n",
    "    bill = 100 * 4.5 + 100 * 6 + 100 * 10 + (units - 300) * 20\n",
    "\n",
    "print( \"bill Rs.\",bill)"
   ]
  },
  {
   "cell_type": "markdown",
   "id": "ec42d086-1ed6-475a-84fc-c2bdb4e0cc42",
   "metadata": {},
   "source": [
    "Ans 4."
   ]
  },
  {
   "cell_type": "code",
   "execution_count": 7,
   "id": "114d07b3-9334-45c3-a919-8f2e3c645d07",
   "metadata": {},
   "outputs": [
    {
     "data": {
      "text/plain": [
       "[2,\n",
       " 4,\n",
       " 5,\n",
       " 6,\n",
       " 8,\n",
       " 10,\n",
       " 12,\n",
       " 14,\n",
       " 15,\n",
       " 16,\n",
       " 18,\n",
       " 20,\n",
       " 22,\n",
       " 24,\n",
       " 25,\n",
       " 26,\n",
       " 28,\n",
       " 30,\n",
       " 32,\n",
       " 34,\n",
       " 35,\n",
       " 36,\n",
       " 38,\n",
       " 40,\n",
       " 42,\n",
       " 44,\n",
       " 45,\n",
       " 46,\n",
       " 48,\n",
       " 50,\n",
       " 52,\n",
       " 54,\n",
       " 55,\n",
       " 56,\n",
       " 58,\n",
       " 60,\n",
       " 62,\n",
       " 64,\n",
       " 65,\n",
       " 66,\n",
       " 68,\n",
       " 70,\n",
       " 72,\n",
       " 74,\n",
       " 75,\n",
       " 76,\n",
       " 78,\n",
       " 80,\n",
       " 82,\n",
       " 84,\n",
       " 85,\n",
       " 86,\n",
       " 88,\n",
       " 90,\n",
       " 92,\n",
       " 94,\n",
       " 95,\n",
       " 96,\n",
       " 98,\n",
       " 100]"
      ]
     },
     "execution_count": 8,
     "metadata": {},
     "output_type": "execute_result"
    }
   ],
   "source": [
    "numbers = list(range(1,101))\n",
    "result= []\n",
    "for i in numbers:\n",
    "    cube = i ** 3 \n",
    "    if cube %4== 0 or cube%5==0:\n",
    "        result.append(i)\n",
    "result"
   ]
  },
  {
   "cell_type": "markdown",
   "id": "bc3b0a2b-e55f-4e2d-a6b4-f3e564a86d6e",
   "metadata": {},
   "source": [
    "Ans 5.\n"
   ]
  },
  {
   "cell_type": "code",
   "execution_count": 36,
   "id": "524b0260-27f1-4256-a52e-9be35c227f39",
   "metadata": {},
   "outputs": [
    {
     "name": "stdout",
     "output_type": "stream",
     "text": [
      "12\n"
     ]
    }
   ],
   "source": [
    "string = \"I want to become a data scientist\"\n",
    "vowel =['a','e','i','o','u']\n",
    "count = 0\n",
    "for i in string:\n",
    "    if i.lower() in vowel:\n",
    "        count += 1\n",
    "print(count)"
   ]
  },
  {
   "cell_type": "code",
   "execution_count": null,
   "id": "419f0769-c045-4f1a-9ebc-f52543c7ff08",
   "metadata": {},
   "outputs": [],
   "source": []
  },
  {
   "cell_type": "code",
   "execution_count": null,
   "id": "558a8213-0176-4485-9c64-ca3efc917b17",
   "metadata": {},
   "outputs": [],
   "source": []
  }
 ],
 "metadata": {
  "kernelspec": {
   "display_name": "Python 3 (ipykernel)",
   "language": "python",
   "name": "python3"
  },
  "language_info": {
   "codemirror_mode": {
    "name": "ipython",
    "version": 3
   },
   "file_extension": ".py",
   "mimetype": "text/x-python",
   "name": "python",
   "nbconvert_exporter": "python",
   "pygments_lexer": "ipython3",
   "version": "3.10.8"
  }
 },
 "nbformat": 4,
 "nbformat_minor": 5
}
